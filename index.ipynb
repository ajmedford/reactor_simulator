{
 "cells": [
  {
   "cell_type": "code",
   "execution_count": 1,
   "metadata": {
    "collapsed": false
   },
   "outputs": [
    {
     "name": "stdout",
     "output_type": "stream",
     "text": [
      "<function simulate at 0x105d97f50>\n"
     ]
    }
   ],
   "source": [
    "from simulator import simulate\n",
    "import pylab as plt"
   ]
  },
  {
   "cell_type": "code",
   "execution_count": null,
   "metadata": {
    "collapsed": true
   },
   "outputs": [],
   "source": [
    "Ca0 = 2     # Entering concentration\n",
    "vo = 2      # volumetric flow rate\n",
    "\n",
    "fig = plt.figure()\n",
    "ax1 = fig.add_subplot(111)\n",
    "fig2 = plt.figure()\n",
    "ax2 = fig2.add_subplot(111)\n",
    "\n",
    "for i in range(10):\n",
    "    V, tspan, sol, ssol = simulate(Ca0, vo) \n",
    "\n",
    "    ax1.plot(tspan, sol[:, -1])\n",
    "    ax1.set_xlabel('time')\n",
    "    ax1.set_ylabel('$C_A$ at exit')\n",
    "\n",
    "    ax2.plot(V, ssol, label='Steady state')\n",
    "    ax2.plot(V, sol[-1], label='t = {}'.format(tspan[-1]))\n",
    "    ax2.plot(V, sol[10], label='t = {}'.format(tspan[10]))\n",
    "    ax2.plot(V, sol[3], label='t = {}'.format(tspan[3]))\n",
    "    ax2.set_xlabel('Volume')\n",
    "    ax2.set_ylabel('$C_A$')\n",
    "\n",
    "plt.show()"
   ]
  }
 ],
 "metadata": {
  "kernelspec": {
   "display_name": "Python 2",
   "language": "python",
   "name": "python2"
  },
  "language_info": {
   "codemirror_mode": {
    "name": "ipython",
    "version": 2
   },
   "file_extension": ".py",
   "mimetype": "text/x-python",
   "name": "python",
   "nbconvert_exporter": "python",
   "pygments_lexer": "ipython2",
   "version": "2.7.12"
  }
 },
 "nbformat": 4,
 "nbformat_minor": 1
}
