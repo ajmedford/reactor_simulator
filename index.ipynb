{
 "cells": [
  {
   "cell_type": "markdown",
   "metadata": {},
   "source": [
    "Set the input concentration (Ca0) and the volumetric flow rate (vo) and run the cell using shift+enter or the \"play\" button on the toolbar. The output will give the time and concentration at the exit."
   ]
  },
  {
   "cell_type": "code",
   "execution_count": null,
   "metadata": {
    "collapsed": false,
    "scrolled": true
   },
   "outputs": [],
   "source": [
    "%matplotlib inline\n",
    "\n",
    "from simulator import simulate\n",
    "import pylab as plt\n",
    "\n",
    "Ca0 = 2     # Entering concentration\n",
    "vo = 2      # volumetric flow rate\n",
    "\n",
    "fig = plt.figure()\n",
    "ax1 = fig.add_subplot(111)\n",
    "V, tspan, sol, ssol = simulate(Ca0, vo) \n",
    "\n",
    "ax1.plot(tspan, sol[:, -1])\n",
    "ax1.set_xlabel('time')\n",
    "ax1.set_ylabel('$C_A$ at exit')\n",
    "\n",
    "print 'Time: ', tspan\n",
    "print 'Concentration at exit', sol[:,-1]\n"
   ]
  },
  {
   "cell_type": "code",
   "execution_count": null,
   "metadata": {
    "collapsed": true
   },
   "outputs": [],
   "source": []
  }
 ],
 "metadata": {
  "kernelspec": {
   "display_name": "Python 2",
   "language": "python",
   "name": "python2"
  },
  "language_info": {
   "codemirror_mode": {
    "name": "ipython",
    "version": 2
   },
   "file_extension": ".py",
   "mimetype": "text/x-python",
   "name": "python",
   "nbconvert_exporter": "python",
   "pygments_lexer": "ipython2",
   "version": "2.7.12"
  }
 },
 "nbformat": 4,
 "nbformat_minor": 1
}
